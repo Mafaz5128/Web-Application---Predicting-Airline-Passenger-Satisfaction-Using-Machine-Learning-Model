{
  "metadata": {
    "kernelspec": {
      "language": "python",
      "display_name": "Python 3",
      "name": "python3"
    },
    "language_info": {
      "name": "python",
      "version": "3.11.11",
      "mimetype": "text/x-python",
      "codemirror_mode": {
        "name": "ipython",
        "version": 3
      },
      "pygments_lexer": "ipython3",
      "nbconvert_exporter": "python",
      "file_extension": ".py"
    },
    "kaggle": {
      "accelerator": "none",
      "dataSources": [
        {
          "sourceId": 959195,
          "sourceType": "datasetVersion",
          "datasetId": 522275
        }
      ],
      "dockerImageVersionId": 31040,
      "isInternetEnabled": true,
      "language": "python",
      "sourceType": "notebook",
      "isGpuEnabled": false
    },
    "colab": {
      "provenance": []
    }
  },
  "nbformat_minor": 0,
  "nbformat": 4,
  "cells": [
    {
      "cell_type": "code",
      "source": [
        "import numpy as np\n",
        "import pandas as pd\n",
        "from sklearn.pipeline import Pipeline\n",
        "from sklearn.preprocessing import LabelEncoder,OneHotEncoder,OrdinalEncoder,StandardScaler\n",
        "from sklearn.compose import ColumnTransformer\n",
        "import matplotlib.pyplot as plt\n",
        "import numpy as np\n",
        "train = pd.read_csv('train.csv')\n",
        "test= pd.read_csv('test.csv')\n"
      ],
      "metadata": {
        "_uuid": "8f2839f25d086af736a60e9eeb907d3b93b6e0e5",
        "_cell_guid": "b1076dfc-b9ad-4769-8c92-a6c4dae69d19",
        "trusted": true,
        "execution": {
          "iopub.status.busy": "2025-06-18T06:32:10.452473Z",
          "iopub.execute_input": "2025-06-18T06:32:10.452740Z",
          "iopub.status.idle": "2025-06-18T06:32:11.603729Z",
          "shell.execute_reply.started": "2025-06-18T06:32:10.452713Z",
          "shell.execute_reply": "2025-06-18T06:32:11.602776Z"
        },
        "id": "jdXbDRszBkp7"
      },
      "outputs": [],
      "execution_count": null
    },
    {
      "cell_type": "code",
      "source": [
        "train.head()"
      ],
      "metadata": {
        "id": "20Qqu58MB0G5"
      },
      "execution_count": null,
      "outputs": []
    },
    {
      "cell_type": "code",
      "source": [
        "test.head()"
      ],
      "metadata": {
        "trusted": true,
        "execution": {
          "iopub.status.busy": "2025-06-18T06:32:13.773084Z",
          "iopub.execute_input": "2025-06-18T06:32:13.773464Z",
          "iopub.status.idle": "2025-06-18T06:32:13.790598Z",
          "shell.execute_reply.started": "2025-06-18T06:32:13.773435Z",
          "shell.execute_reply": "2025-06-18T06:32:13.789609Z"
        },
        "id": "91syyTRPBkp-"
      },
      "outputs": [],
      "execution_count": null
    },
    {
      "cell_type": "code",
      "source": [
        "train = train.drop(columns=['Unnamed: 0','id'])\n",
        "test= test.drop(columns=['Unnamed: 0','id'])"
      ],
      "metadata": {
        "trusted": true,
        "execution": {
          "iopub.status.busy": "2025-06-18T06:32:13.791828Z",
          "iopub.execute_input": "2025-06-18T06:32:13.792207Z",
          "iopub.status.idle": "2025-06-18T06:32:13.821172Z",
          "shell.execute_reply.started": "2025-06-18T06:32:13.792176Z",
          "shell.execute_reply": "2025-06-18T06:32:13.819876Z"
        },
        "id": "GNNejpVgBkp-"
      },
      "outputs": [],
      "execution_count": null
    },
    {
      "cell_type": "code",
      "source": [
        "train.columns[train.isna().any()].tolist()"
      ],
      "metadata": {
        "trusted": true,
        "execution": {
          "iopub.status.busy": "2025-06-18T06:32:13.824056Z",
          "iopub.execute_input": "2025-06-18T06:32:13.824504Z",
          "iopub.status.idle": "2025-06-18T06:32:13.872347Z",
          "shell.execute_reply.started": "2025-06-18T06:32:13.824469Z",
          "shell.execute_reply": "2025-06-18T06:32:13.871500Z"
        },
        "id": "aVVo11dTBkp_"
      },
      "outputs": [],
      "execution_count": null
    },
    {
      "cell_type": "code",
      "source": [
        "test.columns[train.isna().any()].tolist()"
      ],
      "metadata": {
        "trusted": true,
        "execution": {
          "iopub.status.busy": "2025-06-18T06:32:13.873312Z",
          "iopub.execute_input": "2025-06-18T06:32:13.873677Z",
          "iopub.status.idle": "2025-06-18T06:32:13.915313Z",
          "shell.execute_reply.started": "2025-06-18T06:32:13.873656Z",
          "shell.execute_reply": "2025-06-18T06:32:13.914306Z"
        },
        "id": "hE3TkHzcBkqA"
      },
      "outputs": [],
      "execution_count": null
    },
    {
      "cell_type": "code",
      "source": [
        "def detect_outliers(column):\n",
        "    threshold = 3,\n",
        "    z_value = (column- column.mean())/column.std()\n",
        "    return (abs(z_value)> threshold).any()"
      ],
      "metadata": {
        "trusted": true,
        "execution": {
          "iopub.status.busy": "2025-06-18T06:34:45.672135Z",
          "iopub.execute_input": "2025-06-18T06:34:45.672465Z",
          "iopub.status.idle": "2025-06-18T06:34:45.676992Z",
          "shell.execute_reply.started": "2025-06-18T06:34:45.672442Z",
          "shell.execute_reply": "2025-06-18T06:34:45.676063Z"
        },
        "id": "7e52peBxBkqA"
      },
      "outputs": [],
      "execution_count": null
    },
    {
      "cell_type": "code",
      "source": [
        "bool_train_outliers = train[['Arrival Delay in Minutes']].apply(lambda x: detect_outliers(x.dropna()))\n",
        "bool_test_outliers = test[['Arrival Delay in Minutes']].apply(lambda x: detect_outliers(x.dropna()))\n",
        "print(bool_train_outliers)\n",
        "print(bool_test_outliers)"
      ],
      "metadata": {
        "trusted": true,
        "execution": {
          "iopub.status.busy": "2025-06-18T06:47:15.824090Z",
          "iopub.execute_input": "2025-06-18T06:47:15.824437Z",
          "iopub.status.idle": "2025-06-18T06:47:15.837984Z",
          "shell.execute_reply.started": "2025-06-18T06:47:15.824412Z",
          "shell.execute_reply": "2025-06-18T06:47:15.837164Z"
        },
        "id": "Iv79luNHBkqA"
      },
      "outputs": [],
      "execution_count": null
    },
    {
      "cell_type": "code",
      "source": [
        "#Imputation using median\n",
        "train[['Arrival Delay in Minutes']] = train[['Arrival Delay in Minutes']].apply(lambda x: x.fillna(x.median()))\n",
        "test[['Arrival Delay in Minutes']] = train[['Arrival Delay in Minutes']].apply(lambda x: x.fillna(x.median()))"
      ],
      "metadata": {
        "trusted": true,
        "execution": {
          "iopub.status.busy": "2025-06-18T06:50:07.667101Z",
          "iopub.execute_input": "2025-06-18T06:50:07.667434Z",
          "iopub.status.idle": "2025-06-18T06:50:07.681158Z",
          "shell.execute_reply.started": "2025-06-18T06:50:07.667407Z",
          "shell.execute_reply": "2025-06-18T06:50:07.680408Z"
        },
        "id": "CJgRLoOnBkqB"
      },
      "outputs": [],
      "execution_count": null
    },
    {
      "cell_type": "code",
      "source": [
        "# Scalling\n",
        "num_col = ['Age','Flight Distance','Departure Delay in Minutes','Arrival Delay in Minutes']\n",
        "ord_col =['Inflight wifi service',\n",
        "    'Departure/Arrival time convenient',\n",
        "    'Ease of Online booking',\n",
        "    'Gate location',\n",
        "    'Food and drink',\n",
        "    'Online boarding',\n",
        "    'Seat comfort',\n",
        "    'Inflight entertainment',\n",
        "    'On-board service',\n",
        "    'Leg room service',\n",
        "    'Baggage handling',\n",
        "    'Checkin service',\n",
        "    'Inflight service',\n",
        "    'Cleanliness']\n",
        "nominal_col =['Gender','Customer Type','Type of Travel','Class']\n"
      ],
      "metadata": {
        "trusted": true,
        "execution": {
          "iopub.status.busy": "2025-06-18T06:53:00.775715Z",
          "iopub.execute_input": "2025-06-18T06:53:00.776008Z",
          "iopub.status.idle": "2025-06-18T06:53:00.781396Z",
          "shell.execute_reply.started": "2025-06-18T06:53:00.775987Z",
          "shell.execute_reply": "2025-06-18T06:53:00.780403Z"
        },
        "id": "yEfCxZwBBkqB"
      },
      "outputs": [],
      "execution_count": null
    },
    {
      "cell_type": "code",
      "source": [
        "label_encoder = LabelEncoder()\n",
        "y_train = label_encoder.fit_transform(train['satisfaction'])\n",
        "y_test = label_encoder.fit_transform(test['satisfaction'])"
      ],
      "metadata": {
        "trusted": true,
        "execution": {
          "iopub.status.busy": "2025-06-18T07:02:34.435242Z",
          "iopub.execute_input": "2025-06-18T07:02:34.435616Z",
          "iopub.status.idle": "2025-06-18T07:02:34.471881Z",
          "shell.execute_reply.started": "2025-06-18T07:02:34.435594Z",
          "shell.execute_reply": "2025-06-18T07:02:34.471018Z"
        },
        "id": "1BU_ZoyoBkqB"
      },
      "outputs": [],
      "execution_count": null
    },
    {
      "cell_type": "code",
      "source": [
        "ordinal_encoder = OrdinalEncoder()\n",
        "nominal_encoder = OneHotEncoder(sparse_output = False, drop = 'first')\n",
        "numeric_encoder = StandardScaler()\n",
        "preprocessor = ColumnTransformer(\n",
        "    transformers =[\n",
        "        ('numeric',numeric_encoder,num_col),\n",
        "        ('ordinal',ordinal_encoder,ord_col),\n",
        "        ('nominal',nominal_encoder,nominal_col)\n",
        "    ]\n",
        ")\n",
        "pipeline = Pipeline(steps=[('preprocessor',preprocessor)])\n",
        "X_train = pipeline.fit_transform(train)\n",
        "feature_names = pipeline.named_steps['preprocessor'].get_feature_names_out()\n",
        "\n",
        "feature_names_adjusted=[name.split('__',1)[-1] for name in feature_names]\n",
        "\n",
        "X_train = pd.DataFrame(X_train,columns=feature_names_adjusted)\n",
        "X_train.head()\n"
      ],
      "metadata": {
        "trusted": true,
        "execution": {
          "iopub.status.busy": "2025-06-18T07:12:51.284075Z",
          "iopub.execute_input": "2025-06-18T07:12:51.284397Z",
          "iopub.status.idle": "2025-06-18T07:12:51.615339Z",
          "shell.execute_reply.started": "2025-06-18T07:12:51.284345Z",
          "shell.execute_reply": "2025-06-18T07:12:51.614594Z"
        },
        "id": "M1QyFb85BkqB"
      },
      "outputs": [],
      "execution_count": null
    },
    {
      "cell_type": "code",
      "source": [
        "X_test = pipeline.fit_transform(test)\n",
        "X_test = pd.DataFrame(X_test,columns=feature_names_adjusted )\n",
        "X_test.head()"
      ],
      "metadata": {
        "trusted": true,
        "execution": {
          "iopub.status.busy": "2025-06-18T07:14:47.289982Z",
          "iopub.execute_input": "2025-06-18T07:14:47.290291Z",
          "iopub.status.idle": "2025-06-18T07:14:47.395712Z",
          "shell.execute_reply.started": "2025-06-18T07:14:47.290266Z",
          "shell.execute_reply": "2025-06-18T07:14:47.394873Z"
        },
        "id": "-Dbcj6pEBkqC"
      },
      "outputs": [],
      "execution_count": null
    },
    {
      "cell_type": "code",
      "source": [
        "from sklearn.metrics import roc_curve,roc_auc_score,accuracy_score, f1_score, classification_report, confusion_matrix\n",
        "from sklearn.model_selection import GridSearchCV\n",
        "import xgboost as xgb\n",
        "xgb_classifier = xgb.XGBClassifier(random_state=42)\n",
        "xgb_classifier.fit(X_train,y_train)"
      ],
      "metadata": {
        "trusted": true,
        "execution": {
          "iopub.status.busy": "2025-06-18T07:18:28.914292Z",
          "iopub.execute_input": "2025-06-18T07:18:28.915184Z",
          "iopub.status.idle": "2025-06-18T07:18:29.692798Z",
          "shell.execute_reply.started": "2025-06-18T07:18:28.915156Z",
          "shell.execute_reply": "2025-06-18T07:18:29.691943Z"
        },
        "id": "nGXpvSUfBkqC"
      },
      "outputs": [],
      "execution_count": null
    },
    {
      "cell_type": "code",
      "source": [
        "model_report = classification_report(y_test,xgb_classifier.predict(X_test), target_names=np.unique(y_test).astype(str))\n",
        "print(\"Classification Report for XGBoost:\\n\",model_report)"
      ],
      "metadata": {
        "trusted": true,
        "execution": {
          "iopub.status.busy": "2025-06-18T07:21:56.103235Z",
          "iopub.execute_input": "2025-06-18T07:21:56.103571Z",
          "iopub.status.idle": "2025-06-18T07:21:56.187413Z",
          "shell.execute_reply.started": "2025-06-18T07:21:56.103550Z",
          "shell.execute_reply": "2025-06-18T07:21:56.186694Z"
        },
        "id": "ed9mv5ByBkqC"
      },
      "outputs": [],
      "execution_count": null
    },
    {
      "cell_type": "code",
      "source": [
        "importances= xgb_classifier.feature_importances_\n",
        "indices = np.argsort(importances)[::-1]\n",
        "\n",
        "feature_names = X_train.columns\n",
        "df_importances = pd.DataFrame({\n",
        "    'Feature':feature_names[indices],\n",
        "    'Importance': importances[indices]\n",
        "})\n",
        "\n",
        "plt.figure(figsize=(12,8))\n",
        "plt.title('Feature importances for Xgboost model')\n",
        "plt.bar(range(X_train.shape[1]),importances[indices],align = 'center')\n",
        "plt.xticks(range(X_train.shape[1]),feature_names[indices],rotation=90)\n",
        "plt.xlim([-1,X_train.shape[1]])\n",
        "plt.xlabel('Feature')\n",
        "plt.ylabel('Importance')\n",
        "plt.show()"
      ],
      "metadata": {
        "trusted": true,
        "execution": {
          "iopub.status.busy": "2025-06-18T07:22:58.289776Z",
          "iopub.execute_input": "2025-06-18T07:22:58.290145Z",
          "iopub.status.idle": "2025-06-18T07:22:58.734325Z",
          "shell.execute_reply.started": "2025-06-18T07:22:58.290119Z",
          "shell.execute_reply": "2025-06-18T07:22:58.733387Z"
        },
        "id": "-cJ7hO2qBkqC"
      },
      "outputs": [],
      "execution_count": null
    },
    {
      "cell_type": "code",
      "source": [
        "top_5_indices = indices[:5]\n",
        "X_train_top5=X_train.iloc[:,top_5_indices]\n",
        "X_test_top5=X_test.iloc[:,top_5_indices]"
      ],
      "metadata": {
        "trusted": true,
        "execution": {
          "iopub.status.busy": "2025-06-18T07:24:23.790017Z",
          "iopub.execute_input": "2025-06-18T07:24:23.790345Z",
          "iopub.status.idle": "2025-06-18T07:24:23.798730Z",
          "shell.execute_reply.started": "2025-06-18T07:24:23.790321Z",
          "shell.execute_reply": "2025-06-18T07:24:23.797806Z"
        },
        "id": "_UYD8D5IBkqC"
      },
      "outputs": [],
      "execution_count": null
    },
    {
      "cell_type": "code",
      "source": [
        "top_xgb_clf = xgb.XGBClassifier(random_state=42)\n",
        "top_xgb_clf.fit(X_train_top5, y_train)\n",
        "\n",
        "y_train_pred_top_xgb = top_xgb_clf.predict(X_train_top5)\n",
        "y_test_pred_top_xgb = top_xgb_clf.predict(X_test_top5)\n",
        "print(\"Classification Report for  XGBoost with top predictors:\\n\",classification_report(y_test, y_test_pred_top_xgb))"
      ],
      "metadata": {
        "trusted": true,
        "execution": {
          "iopub.status.busy": "2025-06-18T07:25:04.116238Z",
          "iopub.execute_input": "2025-06-18T07:25:04.116566Z",
          "iopub.status.idle": "2025-06-18T07:25:04.775234Z",
          "shell.execute_reply.started": "2025-06-18T07:25:04.116542Z",
          "shell.execute_reply": "2025-06-18T07:25:04.774412Z"
        },
        "id": "DZ0JtGKZBkqC"
      },
      "outputs": [],
      "execution_count": null
    },
    {
      "cell_type": "code",
      "source": [
        "import pickle\n",
        "with open('xgb.pkl', 'wb') as file:\n",
        "    pickle.dump(xgb_classifier, file)"
      ],
      "metadata": {
        "trusted": true,
        "execution": {
          "iopub.status.busy": "2025-06-18T07:35:26.381636Z",
          "iopub.execute_input": "2025-06-18T07:35:26.381958Z",
          "iopub.status.idle": "2025-06-18T07:35:26.392155Z",
          "shell.execute_reply.started": "2025-06-18T07:35:26.381933Z",
          "shell.execute_reply": "2025-06-18T07:35:26.391321Z"
        },
        "id": "bzCLmLqwBkqC"
      },
      "outputs": [],
      "execution_count": null
    }
  ]
}